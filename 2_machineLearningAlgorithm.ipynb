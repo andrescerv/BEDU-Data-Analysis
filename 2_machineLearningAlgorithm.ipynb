{
 "cells": [
  {
   "cell_type": "markdown",
   "metadata": {},
   "source": [
    "# MLA"
   ]
  },
  {
   "cell_type": "markdown",
   "metadata": {},
   "source": [
    "## Preparing data"
   ]
  },
  {
   "cell_type": "code",
   "execution_count": 1,
   "metadata": {},
   "outputs": [],
   "source": [
    "import pandas as pd"
   ]
  },
  {
   "cell_type": "code",
   "execution_count": 2,
   "metadata": {},
   "outputs": [],
   "source": [
    "waves_filepath = 'C:/Users/Andre/Documents/GitHub/BEDU-Data-Analysis/data/Coastal Data System - Waves (Mooloolaba) 01-2017 to 06 - 2019.csv'\n",
    "waves_data = pd.read_csv(waves_filepath, index_col=False)\n",
    "waves_data = waves_data.rename(columns={\"Date/Time\":\"time\",\n",
    "                                        'Hs':'wave_height',\n",
    "                                        'Hmax':'max_wave_height',\n",
    "                                        'Tz':'zero_upcrossing_wave_period',\n",
    "                                        'Tp':'peak_energy_wave_period',\n",
    "                                        'Peak Direction':'peak_direction',\n",
    "                                        'SST':'temperature'})"
   ]
  },
  {
   "cell_type": "code",
   "execution_count": 3,
   "metadata": {},
   "outputs": [],
   "source": [
    "waves_data_clean = waves_data[(waves_data.wave_height > 0) &\n",
    "                              (waves_data.max_wave_height > 0) &\n",
    "                              (waves_data.zero_upcrossing_wave_period > 0) &\n",
    "                              (waves_data.peak_energy_wave_period > 0) &\n",
    "                              (waves_data.peak_direction > 0) &\n",
    "                              (waves_data.temperature > 0)]"
   ]
  },
  {
   "cell_type": "code",
   "execution_count": 4,
   "metadata": {},
   "outputs": [],
   "source": [
    "waves_data_sample = waves_data_clean.iloc[41727:] # 1727 rows"
   ]
  },
  {
   "cell_type": "markdown",
   "metadata": {},
   "source": [
    "## Random Forests *without* max_wave_height"
   ]
  },
  {
   "cell_type": "code",
   "execution_count": 5,
   "metadata": {},
   "outputs": [],
   "source": [
    "y = waves_data_sample.wave_height\n",
    "y_tr = y.iloc[:1295]\n",
    "y_te = y.iloc[1295:]\n",
    "\n",
    "features = ['zero_upcrossing_wave_period','peak_energy_wave_period','peak_direction','temperature']\n",
    "X = waves_data_sample[features]\n",
    "X_tr = X.iloc[:1295]\n",
    "X_te = X.iloc[1295:]"
   ]
  },
  {
   "cell_type": "code",
   "execution_count": 6,
   "metadata": {},
   "outputs": [
    {
     "name": "stdout",
     "output_type": "stream",
     "text": [
      "The Mean Absolute Error is 0.97 meters.\n"
     ]
    }
   ],
   "source": [
    "from sklearn.ensemble import RandomForestRegressor\n",
    "from sklearn.metrics import mean_absolute_error\n",
    "\n",
    "# 1/4 select\n",
    "rf_model = RandomForestRegressor(random_state=1)\n",
    "# 2/4 fit\n",
    "rf_model.fit(X_tr, y_tr)\n",
    "# 3/4 predict\n",
    "wave_height_preds = rf_model.predict(X_te)\n",
    "# 4/4 validate\n",
    "MAE = mean_absolute_error(y_te, wave_height_preds)\n",
    "\n",
    "print(\"The Mean Absolute Error is {0:.2f} meters.\".format(MAE))"
   ]
  },
  {
   "cell_type": "markdown",
   "metadata": {},
   "source": [
    "## Random Forests *using* max_wave_height"
   ]
  },
  {
   "cell_type": "code",
   "execution_count": 10,
   "metadata": {},
   "outputs": [],
   "source": [
    "features = ['max_wave_height','zero_upcrossing_wave_period','peak_energy_wave_period','peak_direction','temperature']\n",
    "Z = waves_data_sample[features]\n",
    "Z_tr = Z.iloc[:1295]\n",
    "Z_te = Z.iloc[1295:]"
   ]
  },
  {
   "cell_type": "code",
   "execution_count": 11,
   "metadata": {},
   "outputs": [
    {
     "name": "stdout",
     "output_type": "stream",
     "text": [
      "The Mean Absolute Error of the second model is 0.25 meters.\n"
     ]
    }
   ],
   "source": [
    "# 1/4 select\n",
    "rf_model_b = RandomForestRegressor(random_state=1)\n",
    "# 2/4 fit\n",
    "rf_model_b.fit(Z_tr, y_tr)\n",
    "# 3/4 predict\n",
    "wave_height_preds_b = rf_model_b.predict(Z_te)\n",
    "# 4/4 validate\n",
    "MAE_b = mean_absolute_error(y_te, wave_height_preds_b)\n",
    "\n",
    "print(\"The Mean Absolute Error of the second model is {0:.2f} meters.\".format(MAE_b))"
   ]
  },
  {
   "cell_type": "markdown",
   "metadata": {},
   "source": [
    "## Conlusion"
   ]
  },
  {
   "cell_type": "markdown",
   "metadata": {},
   "source": [
    "The second model (using max_wave_height) decreases the MAE from 0.97 meters to 0.25 meters, because it considers the most correlated factor, maximum wave height, to our variable of interest, average wave height.\n",
    "\n",
    "If we were to choose a model, the second model makes a better job at predicting the waves; the problem with the second model is that it is not practical nor realisitc. This is because it is not possible to predict the average weave height of the set while the biggest wave of the set hasn't happened.\n",
    "\n",
    "On the other hand, let's not forget that the Random Forests Model is a non-parametric model and we can treat it as a black-box. This means that we don't know how the model is actually predicing the variable of interest, average wave height. Perhaps the model is indeed taking into account past maximum wave heights to predcit the next average wave height."
   ]
  }
 ],
 "metadata": {
  "kernelspec": {
   "display_name": "Python 3",
   "language": "python",
   "name": "python3"
  },
  "language_info": {
   "codemirror_mode": {
    "name": "ipython",
    "version": 3
   },
   "file_extension": ".py",
   "mimetype": "text/x-python",
   "name": "python",
   "nbconvert_exporter": "python",
   "pygments_lexer": "ipython3",
   "version": "3.8.5"
  }
 },
 "nbformat": 4,
 "nbformat_minor": 4
}
