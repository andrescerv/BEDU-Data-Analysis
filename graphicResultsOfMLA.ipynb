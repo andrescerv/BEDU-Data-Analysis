{
 "cells": [
  {
   "cell_type": "markdown",
   "metadata": {},
   "source": [
    "# Graphic output of the Random Forests models"
   ]
  },
  {
   "cell_type": "markdown",
   "metadata": {},
   "source": [
    "## Preparing data"
   ]
  },
  {
   "cell_type": "code",
   "execution_count": 1,
   "metadata": {},
   "outputs": [],
   "source": [
    "import pandas as pd\n",
    "\n",
    "waves_filepath = 'C:/Users/Andre/Documents/GitHub/BEDU-Data-Analysis/data/Coastal Data System - Waves (Mooloolaba) 01-2017 to 06 - 2019.csv'\n",
    "waves_data = pd.read_csv(waves_filepath, index_col=False)\n",
    "waves_data = waves_data.rename(columns={\"Date/Time\":\"time\",\n",
    "                                        'Hs':'wave_height',\n",
    "                                        'Hmax':'max_wave_height',\n",
    "                                        'Tz':'zero_upcrossing_wave_period',\n",
    "                                        'Tp':'peak_energy_wave_period',\n",
    "                                        'Peak Direction':'peak_direction',\n",
    "                                        'SST':'temperature'})\n",
    "\n",
    "waves_data_clean = waves_data[(waves_data.wave_height > 0) &\n",
    "                              (waves_data.max_wave_height > 0) &\n",
    "                              (waves_data.zero_upcrossing_wave_period > 0) &\n",
    "                              (waves_data.peak_energy_wave_period > 0) &\n",
    "                              (waves_data.peak_direction > 0) &\n",
    "                              (waves_data.temperature > 0)]\n",
    "\n",
    "waves_data_sample = waves_data_clean.iloc[41727:] # 1727 rows"
   ]
  },
  {
   "cell_type": "markdown",
   "metadata": {},
   "source": [
    "## MLA"
   ]
  },
  {
   "cell_type": "markdown",
   "metadata": {},
   "source": [
    "### Model 1: without max_wave_height"
   ]
  },
  {
   "cell_type": "code",
   "execution_count": 2,
   "metadata": {},
   "outputs": [
    {
     "name": "stdout",
     "output_type": "stream",
     "text": [
      "The Mean Absolute Error is 0.97 meters.\n"
     ]
    }
   ],
   "source": [
    "from sklearn.ensemble import RandomForestRegressor\n",
    "from sklearn.metrics import mean_absolute_error\n",
    "\n",
    "y = waves_data_sample.wave_height\n",
    "y_tr = y.iloc[:1295]\n",
    "y_te = y.iloc[1295:]\n",
    "\n",
    "features = ['zero_upcrossing_wave_period','peak_energy_wave_period','peak_direction','temperature']\n",
    "X = waves_data_sample[features]\n",
    "X_tr = X.iloc[:1295]\n",
    "X_te = X.iloc[1295:]\n",
    "\n",
    "# 1/4 select\n",
    "rf_model = RandomForestRegressor(random_state=1)\n",
    "# 2/4 fit\n",
    "rf_model.fit(X_tr, y_tr)\n",
    "# 3/4 predict\n",
    "wave_height_preds = rf_model.predict(X_te)\n",
    "# 4/4 validate\n",
    "MAE = mean_absolute_error(y_te, wave_height_preds)\n",
    "\n",
    "print(\"The Mean Absolute Error is {0:.2f} meters.\".format(MAE))"
   ]
  },
  {
   "cell_type": "markdown",
   "metadata": {},
   "source": [
    "### Model 2: with max_wave_height"
   ]
  },
  {
   "cell_type": "code",
   "execution_count": 3,
   "metadata": {},
   "outputs": [
    {
     "name": "stdout",
     "output_type": "stream",
     "text": [
      "The Mean Absolute Error of the second model is 0.25 meters.\n"
     ]
    }
   ],
   "source": [
    "features = ['max_wave_height','zero_upcrossing_wave_period','peak_energy_wave_period','peak_direction','temperature']\n",
    "Z = waves_data_sample[features]\n",
    "Z_tr = Z.iloc[:1295]\n",
    "Z_te = Z.iloc[1295:]\n",
    "\n",
    "# 1/4 select\n",
    "rf_model_b = RandomForestRegressor(random_state=1)\n",
    "# 2/4 fit\n",
    "rf_model_b.fit(Z_tr, y_tr)\n",
    "# 3/4 predict\n",
    "wave_height_preds_b = rf_model_b.predict(Z_te)\n",
    "# 4/4 validate\n",
    "MAE_b = mean_absolute_error(y_te, wave_height_preds_b)\n",
    "\n",
    "print(\"The Mean Absolute Error of the second model is {0:.2f} meters.\".format(MAE_b))"
   ]
  },
  {
   "cell_type": "markdown",
   "metadata": {},
   "source": [
    "## Graphs"
   ]
  },
  {
   "cell_type": "code",
   "execution_count": 12,
   "metadata": {},
   "outputs": [],
   "source": [
    "train_df = y_tr.to_frame(name='wave_height')\n",
    "train_df['type'] = 'train'\n",
    "train_df['time'] = waves_data_sample.iloc[:1295]['time'].to_numpy()\n",
    "# train_df"
   ]
  },
  {
   "cell_type": "code",
   "execution_count": 13,
   "metadata": {},
   "outputs": [],
   "source": [
    "test_df = y_te.to_frame(name='wave_height')\n",
    "test_df['type'] = 'test'\n",
    "test_df['time'] = waves_data_sample.iloc[1295:]['time'].to_numpy()\n",
    "# test_df"
   ]
  },
  {
   "cell_type": "code",
   "execution_count": 14,
   "metadata": {},
   "outputs": [],
   "source": [
    "pred_df = y_te.to_frame(name='wave_height_test')\n",
    "pred_df['wave_height_pred'] = wave_height_preds\n",
    "pred_df = pred_df.drop(['wave_height_test'], axis=1).rename(columns={\"wave_height_pred\":\"wave_height\"})\n",
    "pred_df['type'] = 'model 1'\n",
    "pred_df['time'] = waves_data_sample.iloc[1295:]['time'].to_numpy()\n",
    "# pred_df"
   ]
  },
  {
   "cell_type": "code",
   "execution_count": 15,
   "metadata": {},
   "outputs": [],
   "source": [
    "pred_b_df = y_te.to_frame(name='wave_height_test')\n",
    "pred_b_df['wave_height_pred'] = wave_height_preds_b\n",
    "pred_b_df = pred_b_df.drop(['wave_height_test'], axis=1).rename(columns={\"wave_height_pred\":\"wave_height\"})\n",
    "pred_b_df['type'] = 'model 2'\n",
    "pred_b_df['time'] = waves_data_sample.iloc[1295:]['time'].to_numpy()\n",
    "# pred_b_df"
   ]
  },
  {
   "cell_type": "code",
   "execution_count": 16,
   "metadata": {},
   "outputs": [],
   "source": [
    "train_test_df = train_df.append(test_df)\n",
    "models_df = pred_df.append(pred_b_df)\n",
    "final_df = train_test_df.append(models_df)"
   ]
  },
  {
   "cell_type": "code",
   "execution_count": 17,
   "metadata": {},
   "outputs": [
    {
     "data": {
      "text/html": [
       "<div>\n",
       "<style scoped>\n",
       "    .dataframe tbody tr th:only-of-type {\n",
       "        vertical-align: middle;\n",
       "    }\n",
       "\n",
       "    .dataframe tbody tr th {\n",
       "        vertical-align: top;\n",
       "    }\n",
       "\n",
       "    .dataframe thead th {\n",
       "        text-align: right;\n",
       "    }\n",
       "</style>\n",
       "<table border=\"1\" class=\"dataframe\">\n",
       "  <thead>\n",
       "    <tr style=\"text-align: right;\">\n",
       "      <th></th>\n",
       "      <th>wave_height</th>\n",
       "      <th>type</th>\n",
       "      <th>time</th>\n",
       "    </tr>\n",
       "  </thead>\n",
       "  <tbody>\n",
       "    <tr>\n",
       "      <th>41994</th>\n",
       "      <td>0.75100</td>\n",
       "      <td>train</td>\n",
       "      <td>25/05/2019 21:00</td>\n",
       "    </tr>\n",
       "    <tr>\n",
       "      <th>41995</th>\n",
       "      <td>0.73500</td>\n",
       "      <td>train</td>\n",
       "      <td>25/05/2019 21:30</td>\n",
       "    </tr>\n",
       "    <tr>\n",
       "      <th>41996</th>\n",
       "      <td>0.74500</td>\n",
       "      <td>train</td>\n",
       "      <td>25/05/2019 22:00</td>\n",
       "    </tr>\n",
       "    <tr>\n",
       "      <th>41997</th>\n",
       "      <td>0.80000</td>\n",
       "      <td>train</td>\n",
       "      <td>25/05/2019 22:30</td>\n",
       "    </tr>\n",
       "    <tr>\n",
       "      <th>41998</th>\n",
       "      <td>0.70300</td>\n",
       "      <td>train</td>\n",
       "      <td>25/05/2019 23:00</td>\n",
       "    </tr>\n",
       "    <tr>\n",
       "      <th>...</th>\n",
       "      <td>...</td>\n",
       "      <td>...</td>\n",
       "      <td>...</td>\n",
       "    </tr>\n",
       "    <tr>\n",
       "      <th>43723</th>\n",
       "      <td>1.69097</td>\n",
       "      <td>model 2</td>\n",
       "      <td>30/06/2019 21:30</td>\n",
       "    </tr>\n",
       "    <tr>\n",
       "      <th>43724</th>\n",
       "      <td>1.69819</td>\n",
       "      <td>model 2</td>\n",
       "      <td>30/06/2019 22:00</td>\n",
       "    </tr>\n",
       "    <tr>\n",
       "      <th>43725</th>\n",
       "      <td>1.69208</td>\n",
       "      <td>model 2</td>\n",
       "      <td>30/06/2019 22:30</td>\n",
       "    </tr>\n",
       "    <tr>\n",
       "      <th>43726</th>\n",
       "      <td>1.59530</td>\n",
       "      <td>model 2</td>\n",
       "      <td>30/06/2019 23:00</td>\n",
       "    </tr>\n",
       "    <tr>\n",
       "      <th>43727</th>\n",
       "      <td>1.69896</td>\n",
       "      <td>model 2</td>\n",
       "      <td>30/06/2019 23:30</td>\n",
       "    </tr>\n",
       "  </tbody>\n",
       "</table>\n",
       "<p>2591 rows × 3 columns</p>\n",
       "</div>"
      ],
      "text/plain": [
       "       wave_height     type              time\n",
       "41994      0.75100    train  25/05/2019 21:00\n",
       "41995      0.73500    train  25/05/2019 21:30\n",
       "41996      0.74500    train  25/05/2019 22:00\n",
       "41997      0.80000    train  25/05/2019 22:30\n",
       "41998      0.70300    train  25/05/2019 23:00\n",
       "...            ...      ...               ...\n",
       "43723      1.69097  model 2  30/06/2019 21:30\n",
       "43724      1.69819  model 2  30/06/2019 22:00\n",
       "43725      1.69208  model 2  30/06/2019 22:30\n",
       "43726      1.59530  model 2  30/06/2019 23:00\n",
       "43727      1.69896  model 2  30/06/2019 23:30\n",
       "\n",
       "[2591 rows x 3 columns]"
      ]
     },
     "execution_count": 17,
     "metadata": {},
     "output_type": "execute_result"
    }
   ],
   "source": [
    "final_df"
   ]
  },
  {
   "cell_type": "code",
   "execution_count": 18,
   "metadata": {},
   "outputs": [
    {
     "data": {
      "text/plain": [
       "type\n",
       "model 1     432\n",
       "model 2     432\n",
       "test        432\n",
       "train      1295\n",
       "dtype: int64"
      ]
     },
     "execution_count": 18,
     "metadata": {},
     "output_type": "execute_result"
    }
   ],
   "source": [
    "final_df.groupby(['type']).size()"
   ]
  },
  {
   "cell_type": "code",
   "execution_count": 21,
   "metadata": {},
   "outputs": [
    {
     "data": {
      "text/plain": [
       "[[<matplotlib.axis.XTick at 0x18a6a9aef70>,\n",
       "  <matplotlib.axis.XTick at 0x18a6a9aef40>,\n",
       "  <matplotlib.axis.XTick at 0x18a6a98b6a0>]]"
      ]
     },
     "execution_count": 21,
     "metadata": {},
     "output_type": "execute_result"
    },
    {
     "data": {
      "image/png": "[encoded data removed]",
      "text/plain": [
       "<Figure size 432x288 with 1 Axes>"
      ]
     },
     "metadata": {
      "needs_background": "light"
     },
     "output_type": "display_data"
    }
   ],
   "source": [
    "import seaborn as sns\n",
    "\n",
    "sns.lineplot(x=final_df['time'], y=final_df['wave_height'], hue=final_df['type'])\\\n",
    "    .set(xticks=[0,863,1726])  "
   ]
  },
  {
   "cell_type": "code",
   "execution_count": null,
   "metadata": {},
   "outputs": [],
   "source": []
  }
 ],
 "metadata": {
  "kernelspec": {
   "display_name": "Python 3",
   "language": "python",
   "name": "python3"
  },
  "language_info": {
   "codemirror_mode": {
    "name": "ipython",
    "version": 3
   },
   "file_extension": ".py",
   "mimetype": "text/x-python",
   "name": "python",
   "nbconvert_exporter": "python",
   "pygments_lexer": "ipython3",
   "version": "3.8.5"
  }
 },
 "nbformat": 4,
 "nbformat_minor": 4
}
