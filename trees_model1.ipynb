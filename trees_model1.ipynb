{
 "cells": [
  {
   "cell_type": "code",
   "execution_count": 1,
   "metadata": {},
   "outputs": [],
   "source": [
    "import pandas as pd"
   ]
  },
  {
   "cell_type": "code",
   "execution_count": 2,
   "metadata": {},
   "outputs": [],
   "source": [
    "# fetching data\n",
    "waves_filepath = 'C:/Users/AndresCervantesNassa/Documents/GitHub/BEDU-Data-Analysis/data/Coastal Data System - Waves (Mooloolaba) 01-2017 to 06 - 2019.csv'\n",
    "waves_data = pd.read_csv(waves_filepath, index_col=False)\\\n",
    "                .rename(columns={\"Date/Time\":\"time\",\n",
    "                                 'Hs':'wave_height',\n",
    "                                 'Hmax':'max_wave_height',\n",
    "                                 'Tz':'zero_upcrossing_wave_period',\n",
    "                                 'Tp':'peak_energy_wave_period',\n",
    "                                 'Peak Direction':'peak_direction',\n",
    "                                 'SST':'temperature'})"
   ]
  },
  {
   "cell_type": "code",
   "execution_count": 3,
   "metadata": {},
   "outputs": [],
   "source": [
    "# cleaning data\n",
    "waves_data_clean = waves_data[(waves_data.wave_height > 0) &\n",
    "                              (waves_data.max_wave_height > 0) &\n",
    "                              (waves_data.zero_upcrossing_wave_period > 0) &\n",
    "                              (waves_data.peak_energy_wave_period > 0) &\n",
    "                              (waves_data.peak_direction > 0) &\n",
    "                              (waves_data.temperature > 0)]"
   ]
  },
  {
   "cell_type": "code",
   "execution_count": 4,
   "metadata": {},
   "outputs": [],
   "source": [
    "# reducing the data sample so its processing time is shorter\n",
    "waves_data_sample = waves_data_clean.iloc[41727:]"
   ]
  },
  {
   "cell_type": "code",
   "execution_count": 35,
   "metadata": {},
   "outputs": [
    {
     "data": {
      "text/plain": [
       "time                           1727\n",
       "wave_height                    1727\n",
       "max_wave_height                1727\n",
       "zero_upcrossing_wave_period    1727\n",
       "peak_energy_wave_period        1727\n",
       "peak_direction                 1727\n",
       "temperature                    1727\n",
       "dtype: int64"
      ]
     },
     "execution_count": 35,
     "metadata": {},
     "output_type": "execute_result"
    }
   ],
   "source": [
    "waves_data_sample.count()"
   ]
  },
  {
   "cell_type": "code",
   "execution_count": 5,
   "metadata": {},
   "outputs": [],
   "source": [
    "# prediction target\n",
    "y_train = waves_data_sample['wave_height'].iloc[:1295]\n",
    "y_test = waves_data_sample['wave_height'].iloc[1295:]\n",
    "\n",
    "features_cols = ['zero_upcrossing_wave_period','peak_energy_wave_period','peak_direction','temperature']\n",
    "X_train = waves_data_sample[features_cols].iloc[:1295]\n",
    "X_test = waves_data_sample[features_cols].iloc[1295:]"
   ]
  },
  {
   "cell_type": "code",
   "execution_count": 6,
   "metadata": {},
   "outputs": [],
   "source": [
    "from sklearn.tree import DecisionTreeRegressor\n",
    "from sklearn.metrics import mean_absolute_error\n",
    "\n",
    "# 1/4 define\n",
    "waves_model = DecisionTreeRegressor(random_state=1)\n",
    "# 2/4 fit\n",
    "waves_model.fit(X_train, y_train)\n",
    "# 3/4 predict\n",
    "wave_predictions = waves_model.predict(X_test)\n",
    "# 4/4 validate\n",
    "val_mae = mean_absolute_error(wave_predictions, y_test)"
   ]
  },
  {
   "cell_type": "code",
   "execution_count": 7,
   "metadata": {},
   "outputs": [
    {
     "data": {
      "text/plain": [
       "0.9989606481481481"
      ]
     },
     "execution_count": 7,
     "metadata": {},
     "output_type": "execute_result"
    }
   ],
   "source": [
    "val_mae"
   ]
  },
  {
   "cell_type": "markdown",
   "metadata": {},
   "source": [
    "El MAE es de 0.9989 (m) lo que indica (creo yo) que el modelo es muy malo ya que cada tamaño de ola la predice con un error de prácticamente 1m."
   ]
  },
  {
   "cell_type": "code",
   "execution_count": 22,
   "metadata": {},
   "outputs": [
    {
     "data": {
      "text/plain": [
       "numpy.ndarray"
      ]
     },
     "execution_count": 22,
     "metadata": {},
     "output_type": "execute_result"
    }
   ],
   "source": [
    "type(wave_predictions)"
   ]
  },
  {
   "cell_type": "code",
   "execution_count": 9,
   "metadata": {},
   "outputs": [
    {
     "data": {
      "text/plain": [
       "43295    0.878\n",
       "43296    0.937\n",
       "43297    0.868\n",
       "43298    0.802\n",
       "43299    0.816\n",
       "Name: wave_height, dtype: float64"
      ]
     },
     "execution_count": 9,
     "metadata": {},
     "output_type": "execute_result"
    }
   ],
   "source": [
    "y_test.head()"
   ]
  },
  {
   "cell_type": "markdown",
   "metadata": {},
   "source": [
    "# Visual comparison of actual vs predicted values"
   ]
  },
  {
   "cell_type": "code",
   "execution_count": 65,
   "metadata": {},
   "outputs": [],
   "source": [
    "compare_df = y_test.to_frame(name='wave_height')"
   ]
  },
  {
   "cell_type": "code",
   "execution_count": 66,
   "metadata": {},
   "outputs": [],
   "source": [
    "test_time = waves_data_sample.iloc[1295:]['time'].to_numpy()"
   ]
  },
  {
   "cell_type": "code",
   "execution_count": 67,
   "metadata": {},
   "outputs": [],
   "source": [
    "compare_df['pred_val'] = wave_predictions\n",
    "compare_df['time'] = test_time"
   ]
  },
  {
   "cell_type": "code",
   "execution_count": 68,
   "metadata": {},
   "outputs": [
    {
     "data": {
      "text/html": [
       "<div>\n",
       "<style scoped>\n",
       "    .dataframe tbody tr th:only-of-type {\n",
       "        vertical-align: middle;\n",
       "    }\n",
       "\n",
       "    .dataframe tbody tr th {\n",
       "        vertical-align: top;\n",
       "    }\n",
       "\n",
       "    .dataframe thead th {\n",
       "        text-align: right;\n",
       "    }\n",
       "</style>\n",
       "<table border=\"1\" class=\"dataframe\">\n",
       "  <thead>\n",
       "    <tr style=\"text-align: right;\">\n",
       "      <th></th>\n",
       "      <th>wave_height</th>\n",
       "      <th>pred_val</th>\n",
       "      <th>time</th>\n",
       "    </tr>\n",
       "  </thead>\n",
       "  <tbody>\n",
       "    <tr>\n",
       "      <th>43295</th>\n",
       "      <td>0.878</td>\n",
       "      <td>0.795</td>\n",
       "      <td>21/06/2019 23:30</td>\n",
       "    </tr>\n",
       "    <tr>\n",
       "      <th>43296</th>\n",
       "      <td>0.937</td>\n",
       "      <td>0.795</td>\n",
       "      <td>22/06/2019 00:00</td>\n",
       "    </tr>\n",
       "    <tr>\n",
       "      <th>43297</th>\n",
       "      <td>0.868</td>\n",
       "      <td>0.795</td>\n",
       "      <td>22/06/2019 00:30</td>\n",
       "    </tr>\n",
       "    <tr>\n",
       "      <th>43298</th>\n",
       "      <td>0.802</td>\n",
       "      <td>0.924</td>\n",
       "      <td>22/06/2019 01:00</td>\n",
       "    </tr>\n",
       "    <tr>\n",
       "      <th>43299</th>\n",
       "      <td>0.816</td>\n",
       "      <td>0.821</td>\n",
       "      <td>22/06/2019 01:30</td>\n",
       "    </tr>\n",
       "    <tr>\n",
       "      <th>...</th>\n",
       "      <td>...</td>\n",
       "      <td>...</td>\n",
       "      <td>...</td>\n",
       "    </tr>\n",
       "    <tr>\n",
       "      <th>43723</th>\n",
       "      <td>2.299</td>\n",
       "      <td>0.586</td>\n",
       "      <td>30/06/2019 21:30</td>\n",
       "    </tr>\n",
       "    <tr>\n",
       "      <th>43724</th>\n",
       "      <td>2.075</td>\n",
       "      <td>0.586</td>\n",
       "      <td>30/06/2019 22:00</td>\n",
       "    </tr>\n",
       "    <tr>\n",
       "      <th>43725</th>\n",
       "      <td>2.157</td>\n",
       "      <td>1.349</td>\n",
       "      <td>30/06/2019 22:30</td>\n",
       "    </tr>\n",
       "    <tr>\n",
       "      <th>43726</th>\n",
       "      <td>2.087</td>\n",
       "      <td>0.586</td>\n",
       "      <td>30/06/2019 23:00</td>\n",
       "    </tr>\n",
       "    <tr>\n",
       "      <th>43727</th>\n",
       "      <td>1.926</td>\n",
       "      <td>0.586</td>\n",
       "      <td>30/06/2019 23:30</td>\n",
       "    </tr>\n",
       "  </tbody>\n",
       "</table>\n",
       "<p>432 rows × 3 columns</p>\n",
       "</div>"
      ],
      "text/plain": [
       "       wave_height  pred_val              time\n",
       "43295        0.878     0.795  21/06/2019 23:30\n",
       "43296        0.937     0.795  22/06/2019 00:00\n",
       "43297        0.868     0.795  22/06/2019 00:30\n",
       "43298        0.802     0.924  22/06/2019 01:00\n",
       "43299        0.816     0.821  22/06/2019 01:30\n",
       "...            ...       ...               ...\n",
       "43723        2.299     0.586  30/06/2019 21:30\n",
       "43724        2.075     0.586  30/06/2019 22:00\n",
       "43725        2.157     1.349  30/06/2019 22:30\n",
       "43726        2.087     0.586  30/06/2019 23:00\n",
       "43727        1.926     0.586  30/06/2019 23:30\n",
       "\n",
       "[432 rows x 3 columns]"
      ]
     },
     "execution_count": 68,
     "metadata": {},
     "output_type": "execute_result"
    }
   ],
   "source": [
    "compare_df"
   ]
  },
  {
   "cell_type": "code",
   "execution_count": 69,
   "metadata": {},
   "outputs": [],
   "source": [
    "wave_height_og_vals = compare_df.drop(['pred_val'], axis=1)\n",
    "wave_height_pr_vals = compare_df.drop(['wave_height'], axis=1)\\\n",
    "                                .rename(columns={\"pred_val\":\"wave_height\"})"
   ]
  },
  {
   "cell_type": "code",
   "execution_count": 70,
   "metadata": {},
   "outputs": [],
   "source": [
    "wave_height_og_vals['prediction'] = 0\n",
    "wave_height_pr_vals['prediction'] = 1"
   ]
  },
  {
   "cell_type": "code",
   "execution_count": 71,
   "metadata": {},
   "outputs": [
    {
     "data": {
      "text/html": [
       "<div>\n",
       "<style scoped>\n",
       "    .dataframe tbody tr th:only-of-type {\n",
       "        vertical-align: middle;\n",
       "    }\n",
       "\n",
       "    .dataframe tbody tr th {\n",
       "        vertical-align: top;\n",
       "    }\n",
       "\n",
       "    .dataframe thead th {\n",
       "        text-align: right;\n",
       "    }\n",
       "</style>\n",
       "<table border=\"1\" class=\"dataframe\">\n",
       "  <thead>\n",
       "    <tr style=\"text-align: right;\">\n",
       "      <th></th>\n",
       "      <th>wave_height</th>\n",
       "      <th>time</th>\n",
       "      <th>prediction</th>\n",
       "    </tr>\n",
       "  </thead>\n",
       "  <tbody>\n",
       "    <tr>\n",
       "      <th>43295</th>\n",
       "      <td>0.878</td>\n",
       "      <td>21/06/2019 23:30</td>\n",
       "      <td>0</td>\n",
       "    </tr>\n",
       "    <tr>\n",
       "      <th>43296</th>\n",
       "      <td>0.937</td>\n",
       "      <td>22/06/2019 00:00</td>\n",
       "      <td>0</td>\n",
       "    </tr>\n",
       "    <tr>\n",
       "      <th>43297</th>\n",
       "      <td>0.868</td>\n",
       "      <td>22/06/2019 00:30</td>\n",
       "      <td>0</td>\n",
       "    </tr>\n",
       "    <tr>\n",
       "      <th>43298</th>\n",
       "      <td>0.802</td>\n",
       "      <td>22/06/2019 01:00</td>\n",
       "      <td>0</td>\n",
       "    </tr>\n",
       "    <tr>\n",
       "      <th>43299</th>\n",
       "      <td>0.816</td>\n",
       "      <td>22/06/2019 01:30</td>\n",
       "      <td>0</td>\n",
       "    </tr>\n",
       "    <tr>\n",
       "      <th>...</th>\n",
       "      <td>...</td>\n",
       "      <td>...</td>\n",
       "      <td>...</td>\n",
       "    </tr>\n",
       "    <tr>\n",
       "      <th>43723</th>\n",
       "      <td>2.299</td>\n",
       "      <td>30/06/2019 21:30</td>\n",
       "      <td>0</td>\n",
       "    </tr>\n",
       "    <tr>\n",
       "      <th>43724</th>\n",
       "      <td>2.075</td>\n",
       "      <td>30/06/2019 22:00</td>\n",
       "      <td>0</td>\n",
       "    </tr>\n",
       "    <tr>\n",
       "      <th>43725</th>\n",
       "      <td>2.157</td>\n",
       "      <td>30/06/2019 22:30</td>\n",
       "      <td>0</td>\n",
       "    </tr>\n",
       "    <tr>\n",
       "      <th>43726</th>\n",
       "      <td>2.087</td>\n",
       "      <td>30/06/2019 23:00</td>\n",
       "      <td>0</td>\n",
       "    </tr>\n",
       "    <tr>\n",
       "      <th>43727</th>\n",
       "      <td>1.926</td>\n",
       "      <td>30/06/2019 23:30</td>\n",
       "      <td>0</td>\n",
       "    </tr>\n",
       "  </tbody>\n",
       "</table>\n",
       "<p>432 rows × 3 columns</p>\n",
       "</div>"
      ],
      "text/plain": [
       "       wave_height              time  prediction\n",
       "43295        0.878  21/06/2019 23:30           0\n",
       "43296        0.937  22/06/2019 00:00           0\n",
       "43297        0.868  22/06/2019 00:30           0\n",
       "43298        0.802  22/06/2019 01:00           0\n",
       "43299        0.816  22/06/2019 01:30           0\n",
       "...            ...               ...         ...\n",
       "43723        2.299  30/06/2019 21:30           0\n",
       "43724        2.075  30/06/2019 22:00           0\n",
       "43725        2.157  30/06/2019 22:30           0\n",
       "43726        2.087  30/06/2019 23:00           0\n",
       "43727        1.926  30/06/2019 23:30           0\n",
       "\n",
       "[432 rows x 3 columns]"
      ]
     },
     "execution_count": 71,
     "metadata": {},
     "output_type": "execute_result"
    }
   ],
   "source": [
    "wave_height_og_vals"
   ]
  },
  {
   "cell_type": "code",
   "execution_count": 72,
   "metadata": {},
   "outputs": [
    {
     "data": {
      "text/html": [
       "<div>\n",
       "<style scoped>\n",
       "    .dataframe tbody tr th:only-of-type {\n",
       "        vertical-align: middle;\n",
       "    }\n",
       "\n",
       "    .dataframe tbody tr th {\n",
       "        vertical-align: top;\n",
       "    }\n",
       "\n",
       "    .dataframe thead th {\n",
       "        text-align: right;\n",
       "    }\n",
       "</style>\n",
       "<table border=\"1\" class=\"dataframe\">\n",
       "  <thead>\n",
       "    <tr style=\"text-align: right;\">\n",
       "      <th></th>\n",
       "      <th>wave_height</th>\n",
       "      <th>time</th>\n",
       "      <th>prediction</th>\n",
       "    </tr>\n",
       "  </thead>\n",
       "  <tbody>\n",
       "    <tr>\n",
       "      <th>43295</th>\n",
       "      <td>0.795</td>\n",
       "      <td>21/06/2019 23:30</td>\n",
       "      <td>1</td>\n",
       "    </tr>\n",
       "    <tr>\n",
       "      <th>43296</th>\n",
       "      <td>0.795</td>\n",
       "      <td>22/06/2019 00:00</td>\n",
       "      <td>1</td>\n",
       "    </tr>\n",
       "    <tr>\n",
       "      <th>43297</th>\n",
       "      <td>0.795</td>\n",
       "      <td>22/06/2019 00:30</td>\n",
       "      <td>1</td>\n",
       "    </tr>\n",
       "    <tr>\n",
       "      <th>43298</th>\n",
       "      <td>0.924</td>\n",
       "      <td>22/06/2019 01:00</td>\n",
       "      <td>1</td>\n",
       "    </tr>\n",
       "    <tr>\n",
       "      <th>43299</th>\n",
       "      <td>0.821</td>\n",
       "      <td>22/06/2019 01:30</td>\n",
       "      <td>1</td>\n",
       "    </tr>\n",
       "    <tr>\n",
       "      <th>...</th>\n",
       "      <td>...</td>\n",
       "      <td>...</td>\n",
       "      <td>...</td>\n",
       "    </tr>\n",
       "    <tr>\n",
       "      <th>43723</th>\n",
       "      <td>0.586</td>\n",
       "      <td>30/06/2019 21:30</td>\n",
       "      <td>1</td>\n",
       "    </tr>\n",
       "    <tr>\n",
       "      <th>43724</th>\n",
       "      <td>0.586</td>\n",
       "      <td>30/06/2019 22:00</td>\n",
       "      <td>1</td>\n",
       "    </tr>\n",
       "    <tr>\n",
       "      <th>43725</th>\n",
       "      <td>1.349</td>\n",
       "      <td>30/06/2019 22:30</td>\n",
       "      <td>1</td>\n",
       "    </tr>\n",
       "    <tr>\n",
       "      <th>43726</th>\n",
       "      <td>0.586</td>\n",
       "      <td>30/06/2019 23:00</td>\n",
       "      <td>1</td>\n",
       "    </tr>\n",
       "    <tr>\n",
       "      <th>43727</th>\n",
       "      <td>0.586</td>\n",
       "      <td>30/06/2019 23:30</td>\n",
       "      <td>1</td>\n",
       "    </tr>\n",
       "  </tbody>\n",
       "</table>\n",
       "<p>432 rows × 3 columns</p>\n",
       "</div>"
      ],
      "text/plain": [
       "       wave_height              time  prediction\n",
       "43295        0.795  21/06/2019 23:30           1\n",
       "43296        0.795  22/06/2019 00:00           1\n",
       "43297        0.795  22/06/2019 00:30           1\n",
       "43298        0.924  22/06/2019 01:00           1\n",
       "43299        0.821  22/06/2019 01:30           1\n",
       "...            ...               ...         ...\n",
       "43723        0.586  30/06/2019 21:30           1\n",
       "43724        0.586  30/06/2019 22:00           1\n",
       "43725        1.349  30/06/2019 22:30           1\n",
       "43726        0.586  30/06/2019 23:00           1\n",
       "43727        0.586  30/06/2019 23:30           1\n",
       "\n",
       "[432 rows x 3 columns]"
      ]
     },
     "execution_count": 72,
     "metadata": {},
     "output_type": "execute_result"
    }
   ],
   "source": [
    "wave_height_pr_vals"
   ]
  },
  {
   "cell_type": "code",
   "execution_count": 73,
   "metadata": {},
   "outputs": [],
   "source": [
    "final_df = wave_height_og_vals.append(wave_height_pr_vals)"
   ]
  },
  {
   "cell_type": "code",
   "execution_count": 74,
   "metadata": {},
   "outputs": [
    {
     "data": {
      "text/html": [
       "<div>\n",
       "<style scoped>\n",
       "    .dataframe tbody tr th:only-of-type {\n",
       "        vertical-align: middle;\n",
       "    }\n",
       "\n",
       "    .dataframe tbody tr th {\n",
       "        vertical-align: top;\n",
       "    }\n",
       "\n",
       "    .dataframe thead th {\n",
       "        text-align: right;\n",
       "    }\n",
       "</style>\n",
       "<table border=\"1\" class=\"dataframe\">\n",
       "  <thead>\n",
       "    <tr style=\"text-align: right;\">\n",
       "      <th></th>\n",
       "      <th>wave_height</th>\n",
       "      <th>time</th>\n",
       "      <th>prediction</th>\n",
       "    </tr>\n",
       "  </thead>\n",
       "  <tbody>\n",
       "    <tr>\n",
       "      <th>43295</th>\n",
       "      <td>0.878</td>\n",
       "      <td>21/06/2019 23:30</td>\n",
       "      <td>0</td>\n",
       "    </tr>\n",
       "    <tr>\n",
       "      <th>43296</th>\n",
       "      <td>0.937</td>\n",
       "      <td>22/06/2019 00:00</td>\n",
       "      <td>0</td>\n",
       "    </tr>\n",
       "    <tr>\n",
       "      <th>43297</th>\n",
       "      <td>0.868</td>\n",
       "      <td>22/06/2019 00:30</td>\n",
       "      <td>0</td>\n",
       "    </tr>\n",
       "    <tr>\n",
       "      <th>43298</th>\n",
       "      <td>0.802</td>\n",
       "      <td>22/06/2019 01:00</td>\n",
       "      <td>0</td>\n",
       "    </tr>\n",
       "    <tr>\n",
       "      <th>43299</th>\n",
       "      <td>0.816</td>\n",
       "      <td>22/06/2019 01:30</td>\n",
       "      <td>0</td>\n",
       "    </tr>\n",
       "    <tr>\n",
       "      <th>...</th>\n",
       "      <td>...</td>\n",
       "      <td>...</td>\n",
       "      <td>...</td>\n",
       "    </tr>\n",
       "    <tr>\n",
       "      <th>43723</th>\n",
       "      <td>0.586</td>\n",
       "      <td>30/06/2019 21:30</td>\n",
       "      <td>1</td>\n",
       "    </tr>\n",
       "    <tr>\n",
       "      <th>43724</th>\n",
       "      <td>0.586</td>\n",
       "      <td>30/06/2019 22:00</td>\n",
       "      <td>1</td>\n",
       "    </tr>\n",
       "    <tr>\n",
       "      <th>43725</th>\n",
       "      <td>1.349</td>\n",
       "      <td>30/06/2019 22:30</td>\n",
       "      <td>1</td>\n",
       "    </tr>\n",
       "    <tr>\n",
       "      <th>43726</th>\n",
       "      <td>0.586</td>\n",
       "      <td>30/06/2019 23:00</td>\n",
       "      <td>1</td>\n",
       "    </tr>\n",
       "    <tr>\n",
       "      <th>43727</th>\n",
       "      <td>0.586</td>\n",
       "      <td>30/06/2019 23:30</td>\n",
       "      <td>1</td>\n",
       "    </tr>\n",
       "  </tbody>\n",
       "</table>\n",
       "<p>864 rows × 3 columns</p>\n",
       "</div>"
      ],
      "text/plain": [
       "       wave_height              time  prediction\n",
       "43295        0.878  21/06/2019 23:30           0\n",
       "43296        0.937  22/06/2019 00:00           0\n",
       "43297        0.868  22/06/2019 00:30           0\n",
       "43298        0.802  22/06/2019 01:00           0\n",
       "43299        0.816  22/06/2019 01:30           0\n",
       "...            ...               ...         ...\n",
       "43723        0.586  30/06/2019 21:30           1\n",
       "43724        0.586  30/06/2019 22:00           1\n",
       "43725        1.349  30/06/2019 22:30           1\n",
       "43726        0.586  30/06/2019 23:00           1\n",
       "43727        0.586  30/06/2019 23:30           1\n",
       "\n",
       "[864 rows x 3 columns]"
      ]
     },
     "execution_count": 74,
     "metadata": {},
     "output_type": "execute_result"
    }
   ],
   "source": [
    "final_df"
   ]
  },
  {
   "cell_type": "code",
   "execution_count": 77,
   "metadata": {},
   "outputs": [
    {
     "data": {
      "text/plain": [
       "[[<matplotlib.axis.XTick at 0x14ba34b0f10>,\n",
       "  <matplotlib.axis.XTick at 0x14ba34b0ee0>,\n",
       "  <matplotlib.axis.XTick at 0x14ba34f9f70>]]"
      ]
     },
     "execution_count": 77,
     "metadata": {},
     "output_type": "execute_result"
    },
    {
     "data": {
      "image/png": "[encoded data removed]",
      "text/plain": [
       "<Figure size 432x288 with 1 Axes>"
      ]
     },
     "metadata": {
      "needs_background": "light"
     },
     "output_type": "display_data"
    }
   ],
   "source": [
    "import seaborn as sns\n",
    "\n",
    "sns.lineplot(x=final_df['time'], y=final_df['wave_height'], hue=final_df['prediction'])\\\n",
    "    .set(xticks=[0,215,431])    "
   ]
  },
  {
   "cell_type": "code",
   "execution_count": null,
   "metadata": {},
   "outputs": [],
   "source": []
  }
 ],
 "metadata": {
  "kernelspec": {
   "display_name": "Python 3",
   "language": "python",
   "name": "python3"
  },
  "language_info": {
   "codemirror_mode": {
    "name": "ipython",
    "version": 3
   },
   "file_extension": ".py",
   "mimetype": "text/x-python",
   "name": "python",
   "nbconvert_exporter": "python",
   "pygments_lexer": "ipython3",
   "version": "3.8.5"
  }
 },
 "nbformat": 4,
 "nbformat_minor": 4
}
