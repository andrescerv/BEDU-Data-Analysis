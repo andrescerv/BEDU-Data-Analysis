{
 "cells": [
  {
   "cell_type": "markdown",
   "metadata": {},
   "source": [
    "# Data visualization"
   ]
  },
  {
   "cell_type": "code",
   "execution_count": 2,
   "metadata": {},
   "outputs": [],
   "source": [
    "import pandas as pd\n",
    "import matplotlib.pyplot as plt\n",
    "import seaborn as sns"
   ]
  },
  {
   "cell_type": "code",
   "execution_count": 3,
   "metadata": {},
   "outputs": [
    {
     "data": {
      "text/html": [
       "<div>\n",
       "<style scoped>\n",
       "    .dataframe tbody tr th:only-of-type {\n",
       "        vertical-align: middle;\n",
       "    }\n",
       "\n",
       "    .dataframe tbody tr th {\n",
       "        vertical-align: top;\n",
       "    }\n",
       "\n",
       "    .dataframe thead th {\n",
       "        text-align: right;\n",
       "    }\n",
       "</style>\n",
       "<table border=\"1\" class=\"dataframe\">\n",
       "  <thead>\n",
       "    <tr style=\"text-align: right;\">\n",
       "      <th></th>\n",
       "      <th>time</th>\n",
       "      <th>wave_height</th>\n",
       "      <th>max_wave_height</th>\n",
       "      <th>zero_upcrossing_wave_period</th>\n",
       "      <th>peak_energy_wave_period</th>\n",
       "      <th>peak_direction</th>\n",
       "      <th>temperature</th>\n",
       "    </tr>\n",
       "  </thead>\n",
       "  <tbody>\n",
       "    <tr>\n",
       "      <th>0</th>\n",
       "      <td>01/01/2017 00:00</td>\n",
       "      <td>-99.900</td>\n",
       "      <td>-99.90</td>\n",
       "      <td>-99.900</td>\n",
       "      <td>-99.900</td>\n",
       "      <td>-99.9</td>\n",
       "      <td>-99.90</td>\n",
       "    </tr>\n",
       "    <tr>\n",
       "      <th>1</th>\n",
       "      <td>01/01/2017 00:30</td>\n",
       "      <td>0.875</td>\n",
       "      <td>1.39</td>\n",
       "      <td>4.421</td>\n",
       "      <td>4.506</td>\n",
       "      <td>-99.9</td>\n",
       "      <td>-99.90</td>\n",
       "    </tr>\n",
       "    <tr>\n",
       "      <th>2</th>\n",
       "      <td>01/01/2017 01:00</td>\n",
       "      <td>0.763</td>\n",
       "      <td>1.15</td>\n",
       "      <td>4.520</td>\n",
       "      <td>5.513</td>\n",
       "      <td>49.0</td>\n",
       "      <td>25.65</td>\n",
       "    </tr>\n",
       "    <tr>\n",
       "      <th>3</th>\n",
       "      <td>01/01/2017 01:30</td>\n",
       "      <td>0.770</td>\n",
       "      <td>1.41</td>\n",
       "      <td>4.582</td>\n",
       "      <td>5.647</td>\n",
       "      <td>75.0</td>\n",
       "      <td>25.50</td>\n",
       "    </tr>\n",
       "    <tr>\n",
       "      <th>4</th>\n",
       "      <td>01/01/2017 02:00</td>\n",
       "      <td>0.747</td>\n",
       "      <td>1.16</td>\n",
       "      <td>4.515</td>\n",
       "      <td>5.083</td>\n",
       "      <td>91.0</td>\n",
       "      <td>25.45</td>\n",
       "    </tr>\n",
       "    <tr>\n",
       "      <th>...</th>\n",
       "      <td>...</td>\n",
       "      <td>...</td>\n",
       "      <td>...</td>\n",
       "      <td>...</td>\n",
       "      <td>...</td>\n",
       "      <td>...</td>\n",
       "      <td>...</td>\n",
       "    </tr>\n",
       "    <tr>\n",
       "      <th>43723</th>\n",
       "      <td>30/06/2019 21:30</td>\n",
       "      <td>2.299</td>\n",
       "      <td>3.60</td>\n",
       "      <td>9.281</td>\n",
       "      <td>12.765</td>\n",
       "      <td>94.0</td>\n",
       "      <td>21.95</td>\n",
       "    </tr>\n",
       "    <tr>\n",
       "      <th>43724</th>\n",
       "      <td>30/06/2019 22:00</td>\n",
       "      <td>2.075</td>\n",
       "      <td>3.04</td>\n",
       "      <td>9.303</td>\n",
       "      <td>12.722</td>\n",
       "      <td>95.0</td>\n",
       "      <td>21.95</td>\n",
       "    </tr>\n",
       "    <tr>\n",
       "      <th>43725</th>\n",
       "      <td>30/06/2019 22:30</td>\n",
       "      <td>2.157</td>\n",
       "      <td>3.43</td>\n",
       "      <td>9.168</td>\n",
       "      <td>12.890</td>\n",
       "      <td>97.0</td>\n",
       "      <td>21.95</td>\n",
       "    </tr>\n",
       "    <tr>\n",
       "      <th>43726</th>\n",
       "      <td>30/06/2019 23:00</td>\n",
       "      <td>2.087</td>\n",
       "      <td>2.84</td>\n",
       "      <td>8.706</td>\n",
       "      <td>10.963</td>\n",
       "      <td>92.0</td>\n",
       "      <td>21.95</td>\n",
       "    </tr>\n",
       "    <tr>\n",
       "      <th>43727</th>\n",
       "      <td>30/06/2019 23:30</td>\n",
       "      <td>1.926</td>\n",
       "      <td>2.98</td>\n",
       "      <td>8.509</td>\n",
       "      <td>12.228</td>\n",
       "      <td>84.0</td>\n",
       "      <td>21.95</td>\n",
       "    </tr>\n",
       "  </tbody>\n",
       "</table>\n",
       "<p>43728 rows × 7 columns</p>\n",
       "</div>"
      ],
      "text/plain": [
       "                   time  wave_height  max_wave_height  \\\n",
       "0      01/01/2017 00:00      -99.900           -99.90   \n",
       "1      01/01/2017 00:30        0.875             1.39   \n",
       "2      01/01/2017 01:00        0.763             1.15   \n",
       "3      01/01/2017 01:30        0.770             1.41   \n",
       "4      01/01/2017 02:00        0.747             1.16   \n",
       "...                 ...          ...              ...   \n",
       "43723  30/06/2019 21:30        2.299             3.60   \n",
       "43724  30/06/2019 22:00        2.075             3.04   \n",
       "43725  30/06/2019 22:30        2.157             3.43   \n",
       "43726  30/06/2019 23:00        2.087             2.84   \n",
       "43727  30/06/2019 23:30        1.926             2.98   \n",
       "\n",
       "       zero_upcrossing_wave_period  peak_energy_wave_period  peak_direction  \\\n",
       "0                          -99.900                  -99.900           -99.9   \n",
       "1                            4.421                    4.506           -99.9   \n",
       "2                            4.520                    5.513            49.0   \n",
       "3                            4.582                    5.647            75.0   \n",
       "4                            4.515                    5.083            91.0   \n",
       "...                            ...                      ...             ...   \n",
       "43723                        9.281                   12.765            94.0   \n",
       "43724                        9.303                   12.722            95.0   \n",
       "43725                        9.168                   12.890            97.0   \n",
       "43726                        8.706                   10.963            92.0   \n",
       "43727                        8.509                   12.228            84.0   \n",
       "\n",
       "       temperature  \n",
       "0           -99.90  \n",
       "1           -99.90  \n",
       "2            25.65  \n",
       "3            25.50  \n",
       "4            25.45  \n",
       "...            ...  \n",
       "43723        21.95  \n",
       "43724        21.95  \n",
       "43725        21.95  \n",
       "43726        21.95  \n",
       "43727        21.95  \n",
       "\n",
       "[43728 rows x 7 columns]"
      ]
     },
     "execution_count": 3,
     "metadata": {},
     "output_type": "execute_result"
    }
   ],
   "source": [
    "waves_filepath = 'C:/Users/AndresCervantesNassa/Documents/GitHub/BEDU-Data-Analysis/data/Coastal Data System - Waves (Mooloolaba) 01-2017 to 06 - 2019.csv'\n",
    "waves_data = pd.read_csv(waves_filepath, index_col=False)\n",
    "waves_data = waves_data.rename(columns={\"Date/Time\":\"time\",\n",
    "                                        'Hs':'wave_height',\n",
    "                                        'Hmax':'max_wave_height',\n",
    "                                        'Tz':'zero_upcrossing_wave_period',\n",
    "                                        'Tp':'peak_energy_wave_period',\n",
    "                                        'Peak Direction':'peak_direction',\n",
    "                                        'SST':'temperature'})\n",
    "waves_data"
   ]
  },
  {
   "cell_type": "markdown",
   "metadata": {},
   "source": [
    "* wave_height: Significant wave height, an average of the highest third of the waves in a record\n",
    "* max_wave_height: The maximum wave height in the record\n",
    "* zero_upcrossing_wave_period: The zero upcrossing wave period\n",
    "* peak_energy_wave_period: The peak energy wave period\n",
    "* peak_direction: Direction (related to true north) from which the peak period waves are coming from\n",
    "* temperature: Approximation of sea surface temperature"
   ]
  },
  {
   "cell_type": "markdown",
   "metadata": {},
   "source": [
    "## Data cleansing"
   ]
  },
  {
   "cell_type": "code",
   "execution_count": 4,
   "metadata": {},
   "outputs": [],
   "source": [
    "waves_data_clean = waves_data[(waves_data.wave_height > 0) &\n",
    "                              (waves_data.max_wave_height > 0) &\n",
    "                              (waves_data.zero_upcrossing_wave_period > 0) &\n",
    "                              (waves_data.peak_energy_wave_period > 0) &\n",
    "                              (waves_data.peak_direction > 0) &\n",
    "                              (waves_data.temperature > 0)]"
   ]
  },
  {
   "cell_type": "code",
   "execution_count": 5,
   "metadata": {},
   "outputs": [
    {
     "data": {
      "text/html": [
       "<div>\n",
       "<style scoped>\n",
       "    .dataframe tbody tr th:only-of-type {\n",
       "        vertical-align: middle;\n",
       "    }\n",
       "\n",
       "    .dataframe tbody tr th {\n",
       "        vertical-align: top;\n",
       "    }\n",
       "\n",
       "    .dataframe thead th {\n",
       "        text-align: right;\n",
       "    }\n",
       "</style>\n",
       "<table border=\"1\" class=\"dataframe\">\n",
       "  <thead>\n",
       "    <tr style=\"text-align: right;\">\n",
       "      <th></th>\n",
       "      <th>time</th>\n",
       "      <th>wave_height</th>\n",
       "      <th>max_wave_height</th>\n",
       "      <th>zero_upcrossing_wave_period</th>\n",
       "      <th>peak_energy_wave_period</th>\n",
       "      <th>peak_direction</th>\n",
       "      <th>temperature</th>\n",
       "    </tr>\n",
       "  </thead>\n",
       "  <tbody>\n",
       "    <tr>\n",
       "      <th>2</th>\n",
       "      <td>01/01/2017 01:00</td>\n",
       "      <td>0.763</td>\n",
       "      <td>1.15</td>\n",
       "      <td>4.520</td>\n",
       "      <td>5.513</td>\n",
       "      <td>49.0</td>\n",
       "      <td>25.65</td>\n",
       "    </tr>\n",
       "    <tr>\n",
       "      <th>3</th>\n",
       "      <td>01/01/2017 01:30</td>\n",
       "      <td>0.770</td>\n",
       "      <td>1.41</td>\n",
       "      <td>4.582</td>\n",
       "      <td>5.647</td>\n",
       "      <td>75.0</td>\n",
       "      <td>25.50</td>\n",
       "    </tr>\n",
       "    <tr>\n",
       "      <th>4</th>\n",
       "      <td>01/01/2017 02:00</td>\n",
       "      <td>0.747</td>\n",
       "      <td>1.16</td>\n",
       "      <td>4.515</td>\n",
       "      <td>5.083</td>\n",
       "      <td>91.0</td>\n",
       "      <td>25.45</td>\n",
       "    </tr>\n",
       "    <tr>\n",
       "      <th>5</th>\n",
       "      <td>01/01/2017 02:30</td>\n",
       "      <td>0.718</td>\n",
       "      <td>1.61</td>\n",
       "      <td>4.614</td>\n",
       "      <td>6.181</td>\n",
       "      <td>68.0</td>\n",
       "      <td>25.45</td>\n",
       "    </tr>\n",
       "    <tr>\n",
       "      <th>6</th>\n",
       "      <td>01/01/2017 03:00</td>\n",
       "      <td>0.707</td>\n",
       "      <td>1.34</td>\n",
       "      <td>4.568</td>\n",
       "      <td>4.705</td>\n",
       "      <td>73.0</td>\n",
       "      <td>25.50</td>\n",
       "    </tr>\n",
       "    <tr>\n",
       "      <th>...</th>\n",
       "      <td>...</td>\n",
       "      <td>...</td>\n",
       "      <td>...</td>\n",
       "      <td>...</td>\n",
       "      <td>...</td>\n",
       "      <td>...</td>\n",
       "      <td>...</td>\n",
       "    </tr>\n",
       "    <tr>\n",
       "      <th>43723</th>\n",
       "      <td>30/06/2019 21:30</td>\n",
       "      <td>2.299</td>\n",
       "      <td>3.60</td>\n",
       "      <td>9.281</td>\n",
       "      <td>12.765</td>\n",
       "      <td>94.0</td>\n",
       "      <td>21.95</td>\n",
       "    </tr>\n",
       "    <tr>\n",
       "      <th>43724</th>\n",
       "      <td>30/06/2019 22:00</td>\n",
       "      <td>2.075</td>\n",
       "      <td>3.04</td>\n",
       "      <td>9.303</td>\n",
       "      <td>12.722</td>\n",
       "      <td>95.0</td>\n",
       "      <td>21.95</td>\n",
       "    </tr>\n",
       "    <tr>\n",
       "      <th>43725</th>\n",
       "      <td>30/06/2019 22:30</td>\n",
       "      <td>2.157</td>\n",
       "      <td>3.43</td>\n",
       "      <td>9.168</td>\n",
       "      <td>12.890</td>\n",
       "      <td>97.0</td>\n",
       "      <td>21.95</td>\n",
       "    </tr>\n",
       "    <tr>\n",
       "      <th>43726</th>\n",
       "      <td>30/06/2019 23:00</td>\n",
       "      <td>2.087</td>\n",
       "      <td>2.84</td>\n",
       "      <td>8.706</td>\n",
       "      <td>10.963</td>\n",
       "      <td>92.0</td>\n",
       "      <td>21.95</td>\n",
       "    </tr>\n",
       "    <tr>\n",
       "      <th>43727</th>\n",
       "      <td>30/06/2019 23:30</td>\n",
       "      <td>1.926</td>\n",
       "      <td>2.98</td>\n",
       "      <td>8.509</td>\n",
       "      <td>12.228</td>\n",
       "      <td>84.0</td>\n",
       "      <td>21.95</td>\n",
       "    </tr>\n",
       "  </tbody>\n",
       "</table>\n",
       "<p>43454 rows × 7 columns</p>\n",
       "</div>"
      ],
      "text/plain": [
       "                   time  wave_height  max_wave_height  \\\n",
       "2      01/01/2017 01:00        0.763             1.15   \n",
       "3      01/01/2017 01:30        0.770             1.41   \n",
       "4      01/01/2017 02:00        0.747             1.16   \n",
       "5      01/01/2017 02:30        0.718             1.61   \n",
       "6      01/01/2017 03:00        0.707             1.34   \n",
       "...                 ...          ...              ...   \n",
       "43723  30/06/2019 21:30        2.299             3.60   \n",
       "43724  30/06/2019 22:00        2.075             3.04   \n",
       "43725  30/06/2019 22:30        2.157             3.43   \n",
       "43726  30/06/2019 23:00        2.087             2.84   \n",
       "43727  30/06/2019 23:30        1.926             2.98   \n",
       "\n",
       "       zero_upcrossing_wave_period  peak_energy_wave_period  peak_direction  \\\n",
       "2                            4.520                    5.513            49.0   \n",
       "3                            4.582                    5.647            75.0   \n",
       "4                            4.515                    5.083            91.0   \n",
       "5                            4.614                    6.181            68.0   \n",
       "6                            4.568                    4.705            73.0   \n",
       "...                            ...                      ...             ...   \n",
       "43723                        9.281                   12.765            94.0   \n",
       "43724                        9.303                   12.722            95.0   \n",
       "43725                        9.168                   12.890            97.0   \n",
       "43726                        8.706                   10.963            92.0   \n",
       "43727                        8.509                   12.228            84.0   \n",
       "\n",
       "       temperature  \n",
       "2            25.65  \n",
       "3            25.50  \n",
       "4            25.45  \n",
       "5            25.45  \n",
       "6            25.50  \n",
       "...            ...  \n",
       "43723        21.95  \n",
       "43724        21.95  \n",
       "43725        21.95  \n",
       "43726        21.95  \n",
       "43727        21.95  \n",
       "\n",
       "[43454 rows x 7 columns]"
      ]
     },
     "execution_count": 5,
     "metadata": {},
     "output_type": "execute_result"
    }
   ],
   "source": [
    "waves_data_clean"
   ]
  },
  {
   "cell_type": "code",
   "execution_count": 31,
   "metadata": {},
   "outputs": [
    {
     "data": {
      "text/html": [
       "<div>\n",
       "<style scoped>\n",
       "    .dataframe tbody tr th:only-of-type {\n",
       "        vertical-align: middle;\n",
       "    }\n",
       "\n",
       "    .dataframe tbody tr th {\n",
       "        vertical-align: top;\n",
       "    }\n",
       "\n",
       "    .dataframe thead th {\n",
       "        text-align: right;\n",
       "    }\n",
       "</style>\n",
       "<table border=\"1\" class=\"dataframe\">\n",
       "  <thead>\n",
       "    <tr style=\"text-align: right;\">\n",
       "      <th></th>\n",
       "      <th>wave_height</th>\n",
       "      <th>max_wave_height</th>\n",
       "      <th>zero_upcrossing_wave_period</th>\n",
       "      <th>peak_energy_wave_period</th>\n",
       "      <th>peak_direction</th>\n",
       "      <th>temperature</th>\n",
       "    </tr>\n",
       "  </thead>\n",
       "  <tbody>\n",
       "    <tr>\n",
       "      <th>count</th>\n",
       "      <td>43454.000000</td>\n",
       "      <td>43454.000000</td>\n",
       "      <td>43454.000000</td>\n",
       "      <td>43454.000000</td>\n",
       "      <td>43454.000000</td>\n",
       "      <td>43454.000000</td>\n",
       "    </tr>\n",
       "    <tr>\n",
       "      <th>mean</th>\n",
       "      <td>1.237799</td>\n",
       "      <td>2.090125</td>\n",
       "      <td>5.619685</td>\n",
       "      <td>9.011972</td>\n",
       "      <td>98.626594</td>\n",
       "      <td>23.949641</td>\n",
       "    </tr>\n",
       "    <tr>\n",
       "      <th>std</th>\n",
       "      <td>0.528608</td>\n",
       "      <td>0.897640</td>\n",
       "      <td>0.928533</td>\n",
       "      <td>2.390107</td>\n",
       "      <td>24.275165</td>\n",
       "      <td>2.231022</td>\n",
       "    </tr>\n",
       "    <tr>\n",
       "      <th>min</th>\n",
       "      <td>0.294000</td>\n",
       "      <td>0.510000</td>\n",
       "      <td>3.076000</td>\n",
       "      <td>2.720000</td>\n",
       "      <td>5.000000</td>\n",
       "      <td>19.800000</td>\n",
       "    </tr>\n",
       "    <tr>\n",
       "      <th>25%</th>\n",
       "      <td>0.839000</td>\n",
       "      <td>1.410000</td>\n",
       "      <td>4.981000</td>\n",
       "      <td>7.292000</td>\n",
       "      <td>85.000000</td>\n",
       "      <td>21.900000</td>\n",
       "    </tr>\n",
       "    <tr>\n",
       "      <th>50%</th>\n",
       "      <td>1.130000</td>\n",
       "      <td>1.900000</td>\n",
       "      <td>5.530000</td>\n",
       "      <td>8.886000</td>\n",
       "      <td>101.000000</td>\n",
       "      <td>23.950000</td>\n",
       "    </tr>\n",
       "    <tr>\n",
       "      <th>75%</th>\n",
       "      <td>1.544000</td>\n",
       "      <td>2.600000</td>\n",
       "      <td>6.166000</td>\n",
       "      <td>10.677000</td>\n",
       "      <td>116.000000</td>\n",
       "      <td>26.050000</td>\n",
       "    </tr>\n",
       "    <tr>\n",
       "      <th>max</th>\n",
       "      <td>4.257000</td>\n",
       "      <td>7.906000</td>\n",
       "      <td>10.921000</td>\n",
       "      <td>21.121000</td>\n",
       "      <td>358.000000</td>\n",
       "      <td>28.650000</td>\n",
       "    </tr>\n",
       "  </tbody>\n",
       "</table>\n",
       "</div>"
      ],
      "text/plain": [
       "        wave_height  max_wave_height  zero_upcrossing_wave_period  \\\n",
       "count  43454.000000     43454.000000                 43454.000000   \n",
       "mean       1.237799         2.090125                     5.619685   \n",
       "std        0.528608         0.897640                     0.928533   \n",
       "min        0.294000         0.510000                     3.076000   \n",
       "25%        0.839000         1.410000                     4.981000   \n",
       "50%        1.130000         1.900000                     5.530000   \n",
       "75%        1.544000         2.600000                     6.166000   \n",
       "max        4.257000         7.906000                    10.921000   \n",
       "\n",
       "       peak_energy_wave_period  peak_direction   temperature  \n",
       "count             43454.000000    43454.000000  43454.000000  \n",
       "mean                  9.011972       98.626594     23.949641  \n",
       "std                   2.390107       24.275165      2.231022  \n",
       "min                   2.720000        5.000000     19.800000  \n",
       "25%                   7.292000       85.000000     21.900000  \n",
       "50%                   8.886000      101.000000     23.950000  \n",
       "75%                  10.677000      116.000000     26.050000  \n",
       "max                  21.121000      358.000000     28.650000  "
      ]
     },
     "execution_count": 31,
     "metadata": {},
     "output_type": "execute_result"
    }
   ],
   "source": [
    "waves_data_clean.describe()"
   ]
  },
  {
   "cell_type": "markdown",
   "metadata": {},
   "source": [
    "## Small sample visualization"
   ]
  },
  {
   "cell_type": "code",
   "execution_count": 24,
   "metadata": {},
   "outputs": [
    {
     "data": {
      "text/html": [
       "<div>\n",
       "<style scoped>\n",
       "    .dataframe tbody tr th:only-of-type {\n",
       "        vertical-align: middle;\n",
       "    }\n",
       "\n",
       "    .dataframe tbody tr th {\n",
       "        vertical-align: top;\n",
       "    }\n",
       "\n",
       "    .dataframe thead th {\n",
       "        text-align: right;\n",
       "    }\n",
       "</style>\n",
       "<table border=\"1\" class=\"dataframe\">\n",
       "  <thead>\n",
       "    <tr style=\"text-align: right;\">\n",
       "      <th></th>\n",
       "      <th>time</th>\n",
       "      <th>wave_height</th>\n",
       "      <th>max_wave_height</th>\n",
       "      <th>zero_upcrossing_wave_period</th>\n",
       "      <th>peak_energy_wave_period</th>\n",
       "      <th>peak_direction</th>\n",
       "      <th>temperature</th>\n",
       "    </tr>\n",
       "  </thead>\n",
       "  <tbody>\n",
       "    <tr>\n",
       "      <th>41994</th>\n",
       "      <td>25/05/2019 21:00</td>\n",
       "      <td>0.751</td>\n",
       "      <td>1.34</td>\n",
       "      <td>5.605</td>\n",
       "      <td>7.050</td>\n",
       "      <td>84.0</td>\n",
       "      <td>23.20</td>\n",
       "    </tr>\n",
       "    <tr>\n",
       "      <th>41995</th>\n",
       "      <td>25/05/2019 21:30</td>\n",
       "      <td>0.735</td>\n",
       "      <td>1.02</td>\n",
       "      <td>5.500</td>\n",
       "      <td>7.091</td>\n",
       "      <td>77.0</td>\n",
       "      <td>23.20</td>\n",
       "    </tr>\n",
       "    <tr>\n",
       "      <th>41996</th>\n",
       "      <td>25/05/2019 22:00</td>\n",
       "      <td>0.745</td>\n",
       "      <td>1.16</td>\n",
       "      <td>5.334</td>\n",
       "      <td>7.482</td>\n",
       "      <td>80.0</td>\n",
       "      <td>23.20</td>\n",
       "    </tr>\n",
       "    <tr>\n",
       "      <th>41997</th>\n",
       "      <td>25/05/2019 22:30</td>\n",
       "      <td>0.800</td>\n",
       "      <td>1.23</td>\n",
       "      <td>5.717</td>\n",
       "      <td>7.876</td>\n",
       "      <td>81.0</td>\n",
       "      <td>23.20</td>\n",
       "    </tr>\n",
       "    <tr>\n",
       "      <th>41998</th>\n",
       "      <td>25/05/2019 23:00</td>\n",
       "      <td>0.703</td>\n",
       "      <td>1.24</td>\n",
       "      <td>5.189</td>\n",
       "      <td>7.569</td>\n",
       "      <td>80.0</td>\n",
       "      <td>23.20</td>\n",
       "    </tr>\n",
       "    <tr>\n",
       "      <th>...</th>\n",
       "      <td>...</td>\n",
       "      <td>...</td>\n",
       "      <td>...</td>\n",
       "      <td>...</td>\n",
       "      <td>...</td>\n",
       "      <td>...</td>\n",
       "      <td>...</td>\n",
       "    </tr>\n",
       "    <tr>\n",
       "      <th>42990</th>\n",
       "      <td>15/06/2019 15:00</td>\n",
       "      <td>0.466</td>\n",
       "      <td>0.75</td>\n",
       "      <td>5.732</td>\n",
       "      <td>13.730</td>\n",
       "      <td>120.0</td>\n",
       "      <td>21.80</td>\n",
       "    </tr>\n",
       "    <tr>\n",
       "      <th>42991</th>\n",
       "      <td>15/06/2019 15:30</td>\n",
       "      <td>0.457</td>\n",
       "      <td>0.76</td>\n",
       "      <td>5.361</td>\n",
       "      <td>13.788</td>\n",
       "      <td>119.0</td>\n",
       "      <td>21.85</td>\n",
       "    </tr>\n",
       "    <tr>\n",
       "      <th>42992</th>\n",
       "      <td>15/06/2019 16:00</td>\n",
       "      <td>0.476</td>\n",
       "      <td>0.72</td>\n",
       "      <td>5.089</td>\n",
       "      <td>13.693</td>\n",
       "      <td>128.0</td>\n",
       "      <td>21.80</td>\n",
       "    </tr>\n",
       "    <tr>\n",
       "      <th>42993</th>\n",
       "      <td>15/06/2019 16:30</td>\n",
       "      <td>0.460</td>\n",
       "      <td>0.78</td>\n",
       "      <td>5.026</td>\n",
       "      <td>13.683</td>\n",
       "      <td>120.0</td>\n",
       "      <td>21.75</td>\n",
       "    </tr>\n",
       "    <tr>\n",
       "      <th>42994</th>\n",
       "      <td>15/06/2019 17:00</td>\n",
       "      <td>0.462</td>\n",
       "      <td>0.81</td>\n",
       "      <td>4.425</td>\n",
       "      <td>14.717</td>\n",
       "      <td>128.0</td>\n",
       "      <td>21.70</td>\n",
       "    </tr>\n",
       "  </tbody>\n",
       "</table>\n",
       "<p>1000 rows × 7 columns</p>\n",
       "</div>"
      ],
      "text/plain": [
       "                   time  wave_height  max_wave_height  \\\n",
       "41994  25/05/2019 21:00        0.751             1.34   \n",
       "41995  25/05/2019 21:30        0.735             1.02   \n",
       "41996  25/05/2019 22:00        0.745             1.16   \n",
       "41997  25/05/2019 22:30        0.800             1.23   \n",
       "41998  25/05/2019 23:00        0.703             1.24   \n",
       "...                 ...          ...              ...   \n",
       "42990  15/06/2019 15:00        0.466             0.75   \n",
       "42991  15/06/2019 15:30        0.457             0.76   \n",
       "42992  15/06/2019 16:00        0.476             0.72   \n",
       "42993  15/06/2019 16:30        0.460             0.78   \n",
       "42994  15/06/2019 17:00        0.462             0.81   \n",
       "\n",
       "       zero_upcrossing_wave_period  peak_energy_wave_period  peak_direction  \\\n",
       "41994                        5.605                    7.050            84.0   \n",
       "41995                        5.500                    7.091            77.0   \n",
       "41996                        5.334                    7.482            80.0   \n",
       "41997                        5.717                    7.876            81.0   \n",
       "41998                        5.189                    7.569            80.0   \n",
       "...                            ...                      ...             ...   \n",
       "42990                        5.732                   13.730           120.0   \n",
       "42991                        5.361                   13.788           119.0   \n",
       "42992                        5.089                   13.693           128.0   \n",
       "42993                        5.026                   13.683           120.0   \n",
       "42994                        4.425                   14.717           128.0   \n",
       "\n",
       "       temperature  \n",
       "41994        23.20  \n",
       "41995        23.20  \n",
       "41996        23.20  \n",
       "41997        23.20  \n",
       "41998        23.20  \n",
       "...            ...  \n",
       "42990        21.80  \n",
       "42991        21.85  \n",
       "42992        21.80  \n",
       "42993        21.75  \n",
       "42994        21.70  \n",
       "\n",
       "[1000 rows x 7 columns]"
      ]
     },
     "execution_count": 24,
     "metadata": {},
     "output_type": "execute_result"
    }
   ],
   "source": [
    "sample_for_vis = waves_data_clean.iloc[41727:42727]\n",
    "sample_for_vis"
   ]
  },
  {
   "cell_type": "code",
   "execution_count": 25,
   "metadata": {},
   "outputs": [
    {
     "data": {
      "text/plain": [
       "[[<matplotlib.axis.XTick at 0x17778fff310>,\n",
       "  <matplotlib.axis.XTick at 0x17778fff430>,\n",
       "  <matplotlib.axis.XTick at 0x1777901d040>]]"
      ]
     },
     "execution_count": 25,
     "metadata": {},
     "output_type": "execute_result"
    },
    {
     "data": {
      "image/png": "[encoded data removed]",
      "text/plain": [
       "<Figure size 432x288 with 1 Axes>"
      ]
     },
     "metadata": {
      "needs_background": "light"
     },
     "output_type": "display_data"
    }
   ],
   "source": [
    "sns.lineplot(x=sample_for_vis['time'], y=sample_for_vis['wave_height'])\\\n",
    "    .set(xticks=[0,499,999])"
   ]
  },
  {
   "cell_type": "code",
   "execution_count": 26,
   "metadata": {},
   "outputs": [
    {
     "data": {
      "text/plain": [
       "[[<matplotlib.axis.XTick at 0x177795e70d0>,\n",
       "  <matplotlib.axis.XTick at 0x177795e70a0>,\n",
       "  <matplotlib.axis.XTick at 0x1777a5d6730>]]"
      ]
     },
     "execution_count": 26,
     "metadata": {},
     "output_type": "execute_result"
    },
    {
     "data": {
      "image/png": "[encoded data removed]",
      "text/plain": [
       "<Figure size 432x288 with 1 Axes>"
      ]
     },
     "metadata": {
      "needs_background": "light"
     },
     "output_type": "display_data"
    }
   ],
   "source": [
    "sns.lineplot(x=sample_for_vis['time'], y=sample_for_vis['max_wave_height'])\\\n",
    "    .set(xticks=[0,499,999])"
   ]
  },
  {
   "cell_type": "code",
   "execution_count": 27,
   "metadata": {},
   "outputs": [
    {
     "data": {
      "text/plain": [
       "[[<matplotlib.axis.XTick at 0x1777ab92e80>,\n",
       "  <matplotlib.axis.XTick at 0x1777ab92e50>,\n",
       "  <matplotlib.axis.XTick at 0x1777abb64c0>]]"
      ]
     },
     "execution_count": 27,
     "metadata": {},
     "output_type": "execute_result"
    },
    {
     "data": {
      "image/png": "[encoded data removed]",
      "text/plain": [
       "<Figure size 432x288 with 1 Axes>"
      ]
     },
     "metadata": {
      "needs_background": "light"
     },
     "output_type": "display_data"
    }
   ],
   "source": [
    "sns.lineplot(x=sample_for_vis['time'], y=sample_for_vis['zero_upcrossing_wave_period'])\\\n",
    "    .set(xticks=[0,499,999])"
   ]
  },
  {
   "cell_type": "code",
   "execution_count": 28,
   "metadata": {},
   "outputs": [
    {
     "data": {
      "text/plain": [
       "[[<matplotlib.axis.XTick at 0x1777c131e20>,\n",
       "  <matplotlib.axis.XTick at 0x1777c131df0>,\n",
       "  <matplotlib.axis.XTick at 0x1777c156610>]]"
      ]
     },
     "execution_count": 28,
     "metadata": {},
     "output_type": "execute_result"
    },
    {
     "data": {
      "image/png": "[encoded data removed]",
      "text/plain": [
       "<Figure size 432x288 with 1 Axes>"
      ]
     },
     "metadata": {
      "needs_background": "light"
     },
     "output_type": "display_data"
    }
   ],
   "source": [
    "sns.lineplot(x=sample_for_vis['time'], y=sample_for_vis['peak_energy_wave_period'])\\\n",
    "    .set(xticks=[0,499,999])"
   ]
  },
  {
   "cell_type": "code",
   "execution_count": 29,
   "metadata": {},
   "outputs": [
    {
     "data": {
      "text/plain": [
       "[[<matplotlib.axis.XTick at 0x1777d6e30a0>,\n",
       "  <matplotlib.axis.XTick at 0x1777d6e3070>,\n",
       "  <matplotlib.axis.XTick at 0x1777d704670>]]"
      ]
     },
     "execution_count": 29,
     "metadata": {},
     "output_type": "execute_result"
    },
    {
     "data": {
      "image/png": "[encoded data removed]",
      "text/plain": [
       "<Figure size 432x288 with 1 Axes>"
      ]
     },
     "metadata": {
      "needs_background": "light"
     },
     "output_type": "display_data"
    }
   ],
   "source": [
    "sns.lineplot(x=sample_for_vis['time'], y=sample_for_vis['peak_direction'])\\\n",
    "    .set(xticks=[0,499,999])"
   ]
  },
  {
   "cell_type": "code",
   "execution_count": 30,
   "metadata": {},
   "outputs": [
    {
     "data": {
      "text/plain": [
       "[[<matplotlib.axis.XTick at 0x1777dcc20a0>,\n",
       "  <matplotlib.axis.XTick at 0x1777dcc2070>,\n",
       "  <matplotlib.axis.XTick at 0x17778fff550>]]"
      ]
     },
     "execution_count": 30,
     "metadata": {},
     "output_type": "execute_result"
    },
    {
     "data": {
      "image/png": "[encoded data removed]",
      "text/plain": [
       "<Figure size 432x288 with 1 Axes>"
      ]
     },
     "metadata": {
      "needs_background": "light"
     },
     "output_type": "display_data"
    }
   ],
   "source": [
    "sns.lineplot(x=sample_for_vis['time'], y=sample_for_vis['temperature'])\\\n",
    "    .set(xticks=[0,499,999])"
   ]
  },
  {
   "cell_type": "markdown",
   "metadata": {},
   "source": [
    "## Data cleansing II"
   ]
  },
  {
   "cell_type": "code",
   "execution_count": null,
   "metadata": {},
   "outputs": [],
   "source": []
  }
 ],
 "metadata": {
  "kernelspec": {
   "display_name": "Python 3",
   "language": "python",
   "name": "python3"
  },
  "language_info": {
   "codemirror_mode": {
    "name": "ipython",
    "version": 3
   },
   "file_extension": ".py",
   "mimetype": "text/x-python",
   "name": "python",
   "nbconvert_exporter": "python",
   "pygments_lexer": "ipython3",
   "version": "3.8.3"
  }
 },
 "nbformat": 4,
 "nbformat_minor": 4
}
