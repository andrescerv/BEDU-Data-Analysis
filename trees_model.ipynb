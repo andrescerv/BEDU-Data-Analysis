{
 "cells": [
  {
   "cell_type": "code",
   "execution_count": 34,
   "metadata": {},
   "outputs": [],
   "source": [
    "import pandas as pd"
   ]
  },
  {
   "cell_type": "code",
   "execution_count": 36,
   "metadata": {},
   "outputs": [],
   "source": [
    "# fetching data\n",
    "waves_filepath = 'C:/Users/AndresCervantesNassa/Documents/GitHub/BEDU-Data-Analysis/data/Coastal Data System - Waves (Mooloolaba) 01-2017 to 06 - 2019.csv'\n",
    "waves_data = pd.read_csv(waves_filepath, index_col=False)\\\n",
    "                .rename(columns={\"Date/Time\":\"time\",\n",
    "                                 'Hs':'wave_height',\n",
    "                                 'Hmax':'max_wave_height',\n",
    "                                 'Tz':'zero_upcrossing_wave_period',\n",
    "                                 'Tp':'peak_energy_wave_period',\n",
    "                                 'Peak Direction':'peak_direction',\n",
    "                                 'SST':'temperature'})"
   ]
  },
  {
   "cell_type": "code",
   "execution_count": 37,
   "metadata": {},
   "outputs": [],
   "source": [
    "# cleaning data\n",
    "waves_data_clean = waves_data[(waves_data.wave_height > 0) &\n",
    "                              (waves_data.max_wave_height > 0) &\n",
    "                              (waves_data.zero_upcrossing_wave_period > 0) &\n",
    "                              (waves_data.peak_energy_wave_period > 0) &\n",
    "                              (waves_data.peak_direction > 0) &\n",
    "                              (waves_data.temperature > 0)]"
   ]
  },
  {
   "cell_type": "code",
   "execution_count": 44,
   "metadata": {},
   "outputs": [],
   "source": [
    "# reducing the data sample so its processing time is shorter\n",
    "waves_data_sample = waves_data_clean.iloc[41727:]"
   ]
  },
  {
   "cell_type": "code",
   "execution_count": 45,
   "metadata": {},
   "outputs": [],
   "source": [
    "# prediction target\n",
    "y_train = waves_data_sample['wave_height'].iloc[:1295]\n",
    "y_test = waves_data_sample['wave_height'].iloc[1295:]\n",
    "\n",
    "features_cols = ['zero_upcrossing_wave_period','peak_energy_wave_period','peak_direction','temperature']\n",
    "X_train = waves_data_sample[features_cols].iloc[:1295]\n",
    "X_test = waves_data_sample[features_cols].iloc[1295:]"
   ]
  },
  {
   "cell_type": "code",
   "execution_count": 51,
   "metadata": {},
   "outputs": [],
   "source": [
    "from sklearn.tree import DecisionTreeRegressor\n",
    "from sklearn.metrics import mean_absolute_error\n",
    "\n",
    "# 1/4 define\n",
    "waves_model = DecisionTreeRegressor(random_state=1)\n",
    "# 2/4 fit\n",
    "waves_model.fit(X_train, y_train)\n",
    "# 3/4 predict\n",
    "wave_predictions = waves_model.predict(X_test)\n",
    "# 4/4 validate\n",
    "val_mae = mean_absolute_error(wave_predictions, y_test)"
   ]
  },
  {
   "cell_type": "code",
   "execution_count": 52,
   "metadata": {},
   "outputs": [
    {
     "data": {
      "text/plain": [
       "0.9989606481481481"
      ]
     },
     "execution_count": 52,
     "metadata": {},
     "output_type": "execute_result"
    }
   ],
   "source": [
    "val_mae"
   ]
  },
  {
   "cell_type": "markdown",
   "metadata": {},
   "source": [
    "El MAE es de 0.9989 (m) lo que indica (creo yo) que el modelo es muy malo ya que cada tamaño de ola la predice con un error de prácticamente 1m."
   ]
  },
  {
   "cell_type": "code",
   "execution_count": 56,
   "metadata": {},
   "outputs": [
    {
     "data": {
      "text/plain": [
       "array([0.795, 0.795, 0.795, 0.924, 0.821])"
      ]
     },
     "execution_count": 56,
     "metadata": {},
     "output_type": "execute_result"
    }
   ],
   "source": [
    "wave_predictions[0:5]"
   ]
  },
  {
   "cell_type": "code",
   "execution_count": 58,
   "metadata": {},
   "outputs": [
    {
     "data": {
      "text/plain": [
       "43295    0.878\n",
       "43296    0.937\n",
       "43297    0.868\n",
       "43298    0.802\n",
       "43299    0.816\n",
       "Name: wave_height, dtype: float64"
      ]
     },
     "execution_count": 58,
     "metadata": {},
     "output_type": "execute_result"
    }
   ],
   "source": [
    "y_test.head()"
   ]
  },
  {
   "cell_type": "code",
   "execution_count": null,
   "metadata": {},
   "outputs": [],
   "source": []
  }
 ],
 "metadata": {
  "kernelspec": {
   "display_name": "Python 3",
   "language": "python",
   "name": "python3"
  },
  "language_info": {
   "codemirror_mode": {
    "name": "ipython",
    "version": 3
   },
   "file_extension": ".py",
   "mimetype": "text/x-python",
   "name": "python",
   "nbconvert_exporter": "python",
   "pygments_lexer": "ipython3",
   "version": "3.8.3"
  }
 },
 "nbformat": 4,
 "nbformat_minor": 4
}
